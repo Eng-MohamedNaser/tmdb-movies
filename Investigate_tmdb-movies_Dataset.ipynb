{
 "cells": [
  {
   "cell_type": "markdown",
   "metadata": {},
   "source": [
    "# Project: Investigate a Dataset - [TMDb movie data]\n",
    "\n",
    "## Table of Contents\n",
    "<ul>\n",
    "<li><a href=\"#intro\">Introduction</a></li>\n",
    "<li><a href=\"#wrangling\">Data Wrangling</a></li>\n",
    "<li><a href=\"#eda\">Exploratory Data Analysis</a></li>\n",
    "<li><a href=\"#conclusions\">Conclusions</a></li>\n",
    "</ul>"
   ]
  },
  {
   "cell_type": "markdown",
   "metadata": {},
   "source": [
    "<a id='intro'></a>\n",
    "## Introduction\n",
    "\n",
    "### Dataset Description \n",
    " \n",
    "\n",
    "### This data set contains information about 10,000 movies collected from The Movie Database (TMDb),including user ratings and revenue.\n",
    "\n",
    "### columns names\n",
    "\n",
    "- 'id' : id of the movie, \n",
    "- 'imdb_id' : imdb id,\n",
    "- 'popularity' : the popularity of the movie,\n",
    "- 'budget' : the cost for the movie in dollers,\n",
    "- 'revenue' : the revenue of the movie in doller ,\n",
    "- 'original_title' : the title of the movie,\n",
    "- 'cast' : cast fort the movie contain multiple values separated by pipe (|) characters. ,\n",
    "- 'homepage' : home page website of the movie,\n",
    "- 'director' : director name ,\n",
    "- 'tagline' : the tagline of the movie,\n",
    "- 'keywords' : keywords associated with the movie,\n",
    "- 'overview' : shot discribtion of the movie,\n",
    "- 'runtime' : runtime of the movie in minits,\n",
    "- 'genres' : movie type contain multiple values separated by pipe (|)characters. ,\n",
    "- 'production_companies' : production_companies,\n",
    "- 'release_date' : full release date,\n",
    "- 'vote_count' : number of vote count,\n",
    "- 'vote_average' : average vote,\n",
    "- 'release_year' : release year only,\n",
    "- 'budget_adj' : the budget of the associated movie in terms of 2010 dollars,accounting for inflation over time.,\n",
    "- 'revenue_adj' : the revenue of the associated movie in terms of 2010 dollars,accounting for inflation over time.\n",
    "\n",
    "### Question(s) for Analysis\n",
    "\n",
    "- Question 1 (what is the top 100 rating movies during this period?)\n",
    "- Question 2 (what is the top 10 high-profit movies ?)\n",
    "- Question 3 (what are the top 5 directors who made a lot of those best movies ? )\n",
    "- Question 4 (what is the distribution of \"Vote average\" ?)\n",
    "- Question 5 (what is the relationship between \"vote-avg\" and \"popularity\" ?)"
   ]
  },
  {
   "cell_type": "code",
   "execution_count": 1,
   "metadata": {},
   "outputs": [],
   "source": [
    "# importing libiraies\n",
    "import numpy as np\n",
    "from pandas import *\n",
    "import matplotlib.pyplot as plt\n",
    "%matplotlib inline"
   ]
  },
  {
   "cell_type": "markdown",
   "metadata": {},
   "source": [
    "<a id='wrangling'></a>\n",
    "## Data Wrangling\n",
    "\n",
    "\n",
    "### General Properties\n"
   ]
  },
  {
   "cell_type": "code",
   "execution_count": 2,
   "metadata": {},
   "outputs": [],
   "source": [
    "#loading dataset\n",
    "\n",
    "df = read_csv('tmdb-movies.csv')"
   ]
  },
  {
   "cell_type": "code",
   "execution_count": 3,
   "metadata": {},
   "outputs": [],
   "source": [
    "#making function to recheck data faster\n",
    "def check_data(df):\n",
    "    print(df.shape)\n",
    "    print(df.info())"
   ]
  },
  {
   "cell_type": "code",
   "execution_count": 4,
   "metadata": {},
   "outputs": [
    {
     "name": "stdout",
     "output_type": "stream",
     "text": [
      "(10866, 21)\n",
      "<class 'pandas.core.frame.DataFrame'>\n",
      "RangeIndex: 10866 entries, 0 to 10865\n",
      "Data columns (total 21 columns):\n",
      " #   Column                Non-Null Count  Dtype  \n",
      "---  ------                --------------  -----  \n",
      " 0   id                    10866 non-null  int64  \n",
      " 1   imdb_id               10856 non-null  object \n",
      " 2   popularity            10866 non-null  float64\n",
      " 3   budget                10866 non-null  int64  \n",
      " 4   revenue               10866 non-null  int64  \n",
      " 5   original_title        10866 non-null  object \n",
      " 6   cast                  10790 non-null  object \n",
      " 7   homepage              2936 non-null   object \n",
      " 8   director              10822 non-null  object \n",
      " 9   tagline               8042 non-null   object \n",
      " 10  keywords              9373 non-null   object \n",
      " 11  overview              10862 non-null  object \n",
      " 12  runtime               10866 non-null  int64  \n",
      " 13  genres                10843 non-null  object \n",
      " 14  production_companies  9836 non-null   object \n",
      " 15  release_date          10866 non-null  object \n",
      " 16  vote_count            10866 non-null  int64  \n",
      " 17  vote_average          10866 non-null  float64\n",
      " 18  release_year          10866 non-null  int64  \n",
      " 19  budget_adj            10866 non-null  float64\n",
      " 20  revenue_adj           10866 non-null  float64\n",
      "dtypes: float64(4), int64(6), object(11)\n",
      "memory usage: 1.7+ MB\n",
      "None\n"
     ]
    }
   ],
   "source": [
    "#shape of the data\n",
    "check_data(df)"
   ]
  },
  {
   "cell_type": "code",
   "execution_count": 5,
   "metadata": {
    "scrolled": true
   },
   "outputs": [
    {
     "data": {
      "text/html": [
       "<div>\n",
       "<style scoped>\n",
       "    .dataframe tbody tr th:only-of-type {\n",
       "        vertical-align: middle;\n",
       "    }\n",
       "\n",
       "    .dataframe tbody tr th {\n",
       "        vertical-align: top;\n",
       "    }\n",
       "\n",
       "    .dataframe thead th {\n",
       "        text-align: right;\n",
       "    }\n",
       "</style>\n",
       "<table border=\"1\" class=\"dataframe\">\n",
       "  <thead>\n",
       "    <tr style=\"text-align: right;\">\n",
       "      <th></th>\n",
       "      <th>id</th>\n",
       "      <th>imdb_id</th>\n",
       "      <th>popularity</th>\n",
       "      <th>budget</th>\n",
       "      <th>revenue</th>\n",
       "      <th>original_title</th>\n",
       "      <th>cast</th>\n",
       "      <th>homepage</th>\n",
       "      <th>director</th>\n",
       "      <th>tagline</th>\n",
       "      <th>...</th>\n",
       "      <th>overview</th>\n",
       "      <th>runtime</th>\n",
       "      <th>genres</th>\n",
       "      <th>production_companies</th>\n",
       "      <th>release_date</th>\n",
       "      <th>vote_count</th>\n",
       "      <th>vote_average</th>\n",
       "      <th>release_year</th>\n",
       "      <th>budget_adj</th>\n",
       "      <th>revenue_adj</th>\n",
       "    </tr>\n",
       "  </thead>\n",
       "  <tbody>\n",
       "    <tr>\n",
       "      <th>5502</th>\n",
       "      <td>82700</td>\n",
       "      <td>tt1815862</td>\n",
       "      <td>1.284460</td>\n",
       "      <td>130000000</td>\n",
       "      <td>243843127</td>\n",
       "      <td>After Earth</td>\n",
       "      <td>Jaden Smith|Will Smith|Sophie Okonedo|ZoÃ« Kra...</td>\n",
       "      <td>NaN</td>\n",
       "      <td>M. Night Shyamalan</td>\n",
       "      <td>Danger is real, fear is a choice</td>\n",
       "      <td>...</td>\n",
       "      <td>One thousand years after cataclysmic events fo...</td>\n",
       "      <td>100</td>\n",
       "      <td>Science Fiction|Action|Adventure</td>\n",
       "      <td>Columbia Pictures|Blinding Edge Pictures|Overb...</td>\n",
       "      <td>5/30/13</td>\n",
       "      <td>1792</td>\n",
       "      <td>5.1</td>\n",
       "      <td>2013</td>\n",
       "      <td>1.216843e+08</td>\n",
       "      <td>2.282453e+08</td>\n",
       "    </tr>\n",
       "    <tr>\n",
       "      <th>1131</th>\n",
       "      <td>251321</td>\n",
       "      <td>tt2494384</td>\n",
       "      <td>0.191040</td>\n",
       "      <td>8000000</td>\n",
       "      <td>53086</td>\n",
       "      <td>Aloft</td>\n",
       "      <td>Jennifer Connelly|MÃ©lanie Laurent|Cillian Mur...</td>\n",
       "      <td>NaN</td>\n",
       "      <td>Claudia Llosa</td>\n",
       "      <td>NaN</td>\n",
       "      <td>...</td>\n",
       "      <td>As we follow a mother and her son, we delve in...</td>\n",
       "      <td>112</td>\n",
       "      <td>Drama</td>\n",
       "      <td>Arcadia Motion Pictures|Wanda VisiÃ³n S.A.|Buf...</td>\n",
       "      <td>2/12/14</td>\n",
       "      <td>20</td>\n",
       "      <td>5.1</td>\n",
       "      <td>2014</td>\n",
       "      <td>7.368728e+06</td>\n",
       "      <td>4.889704e+04</td>\n",
       "    </tr>\n",
       "    <tr>\n",
       "      <th>570</th>\n",
       "      <td>295886</td>\n",
       "      <td>tt3262990</td>\n",
       "      <td>0.083912</td>\n",
       "      <td>1900000</td>\n",
       "      <td>0</td>\n",
       "      <td>Brotherly Love</td>\n",
       "      <td>Keke Palmer|Cory Hardrict|Eric D. Hill Jr.|Qui...</td>\n",
       "      <td>NaN</td>\n",
       "      <td>Jamal Hill</td>\n",
       "      <td>NaN</td>\n",
       "      <td>...</td>\n",
       "      <td>West Philadelphia basketball star Sergio Taylo...</td>\n",
       "      <td>89</td>\n",
       "      <td>Drama</td>\n",
       "      <td>NaN</td>\n",
       "      <td>4/24/15</td>\n",
       "      <td>11</td>\n",
       "      <td>7.4</td>\n",
       "      <td>2015</td>\n",
       "      <td>1.747999e+06</td>\n",
       "      <td>0.000000e+00</td>\n",
       "    </tr>\n",
       "    <tr>\n",
       "      <th>6263</th>\n",
       "      <td>2026</td>\n",
       "      <td>tt0340163</td>\n",
       "      <td>0.887848</td>\n",
       "      <td>52000000</td>\n",
       "      <td>77944725</td>\n",
       "      <td>Hostage</td>\n",
       "      <td>Bruce Willis|Kevin Pollak|Jimmy Bennett|Michel...</td>\n",
       "      <td>NaN</td>\n",
       "      <td>Florent-Emilio Siri</td>\n",
       "      <td>Every Second Counts</td>\n",
       "      <td>...</td>\n",
       "      <td>When a mafia accountant is taken hostage on hi...</td>\n",
       "      <td>113</td>\n",
       "      <td>Mystery|Drama|Thriller|Crime</td>\n",
       "      <td>Miramax Films|Cheyenne Enterprises|Yari Film G...</td>\n",
       "      <td>3/9/05</td>\n",
       "      <td>280</td>\n",
       "      <td>6.0</td>\n",
       "      <td>2005</td>\n",
       "      <td>5.806129e+07</td>\n",
       "      <td>8.703022e+07</td>\n",
       "    </tr>\n",
       "    <tr>\n",
       "      <th>5553</th>\n",
       "      <td>190847</td>\n",
       "      <td>tt1709143</td>\n",
       "      <td>0.916811</td>\n",
       "      <td>0</td>\n",
       "      <td>0</td>\n",
       "      <td>The Last Days on Mars</td>\n",
       "      <td>Liev Schreiber|Romola Garai|Elias Koteas|Olivi...</td>\n",
       "      <td>NaN</td>\n",
       "      <td>Ruairi Robinson</td>\n",
       "      <td>The search for life is about to end.</td>\n",
       "      <td>...</td>\n",
       "      <td>On the last day of the first manned mission to...</td>\n",
       "      <td>98</td>\n",
       "      <td>Science Fiction|Thriller|Horror</td>\n",
       "      <td>Warner Bros.</td>\n",
       "      <td>8/11/13</td>\n",
       "      <td>167</td>\n",
       "      <td>5.1</td>\n",
       "      <td>2013</td>\n",
       "      <td>0.000000e+00</td>\n",
       "      <td>0.000000e+00</td>\n",
       "    </tr>\n",
       "  </tbody>\n",
       "</table>\n",
       "<p>5 rows × 21 columns</p>\n",
       "</div>"
      ],
      "text/plain": [
       "          id    imdb_id  popularity     budget    revenue  \\\n",
       "5502   82700  tt1815862    1.284460  130000000  243843127   \n",
       "1131  251321  tt2494384    0.191040    8000000      53086   \n",
       "570   295886  tt3262990    0.083912    1900000          0   \n",
       "6263    2026  tt0340163    0.887848   52000000   77944725   \n",
       "5553  190847  tt1709143    0.916811          0          0   \n",
       "\n",
       "             original_title  \\\n",
       "5502            After Earth   \n",
       "1131                  Aloft   \n",
       "570          Brotherly Love   \n",
       "6263                Hostage   \n",
       "5553  The Last Days on Mars   \n",
       "\n",
       "                                                   cast homepage  \\\n",
       "5502  Jaden Smith|Will Smith|Sophie Okonedo|ZoÃ« Kra...      NaN   \n",
       "1131  Jennifer Connelly|MÃ©lanie Laurent|Cillian Mur...      NaN   \n",
       "570   Keke Palmer|Cory Hardrict|Eric D. Hill Jr.|Qui...      NaN   \n",
       "6263  Bruce Willis|Kevin Pollak|Jimmy Bennett|Michel...      NaN   \n",
       "5553  Liev Schreiber|Romola Garai|Elias Koteas|Olivi...      NaN   \n",
       "\n",
       "                 director                               tagline  ...  \\\n",
       "5502   M. Night Shyamalan      Danger is real, fear is a choice  ...   \n",
       "1131        Claudia Llosa                                   NaN  ...   \n",
       "570            Jamal Hill                                   NaN  ...   \n",
       "6263  Florent-Emilio Siri                   Every Second Counts  ...   \n",
       "5553      Ruairi Robinson  The search for life is about to end.  ...   \n",
       "\n",
       "                                               overview runtime  \\\n",
       "5502  One thousand years after cataclysmic events fo...     100   \n",
       "1131  As we follow a mother and her son, we delve in...     112   \n",
       "570   West Philadelphia basketball star Sergio Taylo...      89   \n",
       "6263  When a mafia accountant is taken hostage on hi...     113   \n",
       "5553  On the last day of the first manned mission to...      98   \n",
       "\n",
       "                                genres  \\\n",
       "5502  Science Fiction|Action|Adventure   \n",
       "1131                             Drama   \n",
       "570                              Drama   \n",
       "6263      Mystery|Drama|Thriller|Crime   \n",
       "5553   Science Fiction|Thriller|Horror   \n",
       "\n",
       "                                   production_companies release_date  \\\n",
       "5502  Columbia Pictures|Blinding Edge Pictures|Overb...      5/30/13   \n",
       "1131  Arcadia Motion Pictures|Wanda VisiÃ³n S.A.|Buf...      2/12/14   \n",
       "570                                                 NaN      4/24/15   \n",
       "6263  Miramax Films|Cheyenne Enterprises|Yari Film G...       3/9/05   \n",
       "5553                                       Warner Bros.      8/11/13   \n",
       "\n",
       "     vote_count  vote_average  release_year    budget_adj   revenue_adj  \n",
       "5502       1792           5.1          2013  1.216843e+08  2.282453e+08  \n",
       "1131         20           5.1          2014  7.368728e+06  4.889704e+04  \n",
       "570          11           7.4          2015  1.747999e+06  0.000000e+00  \n",
       "6263        280           6.0          2005  5.806129e+07  8.703022e+07  \n",
       "5553        167           5.1          2013  0.000000e+00  0.000000e+00  \n",
       "\n",
       "[5 rows x 21 columns]"
      ]
     },
     "execution_count": 5,
     "metadata": {},
     "output_type": "execute_result"
    }
   ],
   "source": [
    "#show 5 samples of the data\n",
    "df.sample(5)"
   ]
  },
  {
   "cell_type": "markdown",
   "metadata": {},
   "source": [
    "## drop not useful columns"
   ]
  },
  {
   "cell_type": "code",
   "execution_count": 6,
   "metadata": {},
   "outputs": [],
   "source": [
    "# drop unuseful columns from the data\n",
    "columns_drop = ['id','imdb_id','tagline','keywords','overview','homepage','genres','budget_adj','revenue_adj','cast','release_date','production_companies']\n",
    "df.drop(columns_drop,axis=1,inplace = True)"
   ]
  },
  {
   "cell_type": "code",
   "execution_count": 7,
   "metadata": {},
   "outputs": [
    {
     "data": {
      "text/html": [
       "<div>\n",
       "<style scoped>\n",
       "    .dataframe tbody tr th:only-of-type {\n",
       "        vertical-align: middle;\n",
       "    }\n",
       "\n",
       "    .dataframe tbody tr th {\n",
       "        vertical-align: top;\n",
       "    }\n",
       "\n",
       "    .dataframe thead th {\n",
       "        text-align: right;\n",
       "    }\n",
       "</style>\n",
       "<table border=\"1\" class=\"dataframe\">\n",
       "  <thead>\n",
       "    <tr style=\"text-align: right;\">\n",
       "      <th></th>\n",
       "      <th>popularity</th>\n",
       "      <th>budget</th>\n",
       "      <th>revenue</th>\n",
       "      <th>original_title</th>\n",
       "      <th>director</th>\n",
       "      <th>runtime</th>\n",
       "      <th>vote_count</th>\n",
       "      <th>vote_average</th>\n",
       "      <th>release_year</th>\n",
       "    </tr>\n",
       "  </thead>\n",
       "  <tbody>\n",
       "    <tr>\n",
       "      <th>9964</th>\n",
       "      <td>0.142949</td>\n",
       "      <td>0</td>\n",
       "      <td>0</td>\n",
       "      <td>Punishment Park</td>\n",
       "      <td>Peter Watkins</td>\n",
       "      <td>88</td>\n",
       "      <td>16</td>\n",
       "      <td>6.6</td>\n",
       "      <td>1971</td>\n",
       "    </tr>\n",
       "    <tr>\n",
       "      <th>3153</th>\n",
       "      <td>0.316727</td>\n",
       "      <td>0</td>\n",
       "      <td>0</td>\n",
       "      <td>Anaconda 3: Offspring</td>\n",
       "      <td>Don E. FauntLeRoy</td>\n",
       "      <td>91</td>\n",
       "      <td>21</td>\n",
       "      <td>4.4</td>\n",
       "      <td>2008</td>\n",
       "    </tr>\n",
       "    <tr>\n",
       "      <th>895</th>\n",
       "      <td>0.498787</td>\n",
       "      <td>0</td>\n",
       "      <td>0</td>\n",
       "      <td>The Town that Dreaded Sundown</td>\n",
       "      <td>Alfonso Gomez-Rejon</td>\n",
       "      <td>85</td>\n",
       "      <td>99</td>\n",
       "      <td>5.8</td>\n",
       "      <td>2014</td>\n",
       "    </tr>\n",
       "    <tr>\n",
       "      <th>10780</th>\n",
       "      <td>0.409377</td>\n",
       "      <td>3500000</td>\n",
       "      <td>24046533</td>\n",
       "      <td>Invasion of the Body Snatchers</td>\n",
       "      <td>Philip Kaufman</td>\n",
       "      <td>115</td>\n",
       "      <td>87</td>\n",
       "      <td>6.5</td>\n",
       "      <td>1978</td>\n",
       "    </tr>\n",
       "    <tr>\n",
       "      <th>1687</th>\n",
       "      <td>0.333551</td>\n",
       "      <td>0</td>\n",
       "      <td>0</td>\n",
       "      <td>Fame</td>\n",
       "      <td>Kevin Tancharoen</td>\n",
       "      <td>107</td>\n",
       "      <td>88</td>\n",
       "      <td>5.3</td>\n",
       "      <td>2009</td>\n",
       "    </tr>\n",
       "  </tbody>\n",
       "</table>\n",
       "</div>"
      ],
      "text/plain": [
       "       popularity   budget   revenue                  original_title  \\\n",
       "9964     0.142949        0         0                 Punishment Park   \n",
       "3153     0.316727        0         0           Anaconda 3: Offspring   \n",
       "895      0.498787        0         0   The Town that Dreaded Sundown   \n",
       "10780    0.409377  3500000  24046533  Invasion of the Body Snatchers   \n",
       "1687     0.333551        0         0                            Fame   \n",
       "\n",
       "                  director  runtime  vote_count  vote_average  release_year  \n",
       "9964         Peter Watkins       88          16           6.6          1971  \n",
       "3153     Don E. FauntLeRoy       91          21           4.4          2008  \n",
       "895    Alfonso Gomez-Rejon       85          99           5.8          2014  \n",
       "10780       Philip Kaufman      115          87           6.5          1978  \n",
       "1687      Kevin Tancharoen      107          88           5.3          2009  "
      ]
     },
     "execution_count": 7,
     "metadata": {},
     "output_type": "execute_result"
    }
   ],
   "source": [
    "df.sample(5)"
   ]
  },
  {
   "cell_type": "code",
   "execution_count": 8,
   "metadata": {},
   "outputs": [
    {
     "name": "stdout",
     "output_type": "stream",
     "text": [
      "<class 'pandas.core.frame.DataFrame'>\n",
      "RangeIndex: 10866 entries, 0 to 10865\n",
      "Data columns (total 9 columns):\n",
      " #   Column          Non-Null Count  Dtype  \n",
      "---  ------          --------------  -----  \n",
      " 0   popularity      10866 non-null  float64\n",
      " 1   budget          10866 non-null  int64  \n",
      " 2   revenue         10866 non-null  int64  \n",
      " 3   original_title  10866 non-null  object \n",
      " 4   director        10822 non-null  object \n",
      " 5   runtime         10866 non-null  int64  \n",
      " 6   vote_count      10866 non-null  int64  \n",
      " 7   vote_average    10866 non-null  float64\n",
      " 8   release_year    10866 non-null  int64  \n",
      "dtypes: float64(2), int64(5), object(2)\n",
      "memory usage: 764.1+ KB\n"
     ]
    }
   ],
   "source": [
    "#check dataframe and datatypes\n",
    "df.info()"
   ]
  },
  {
   "cell_type": "markdown",
   "metadata": {},
   "source": [
    "\n",
    "### Data Cleaning\n"
   ]
  },
  {
   "cell_type": "markdown",
   "metadata": {},
   "source": [
    "## Solve duplicated rows"
   ]
  },
  {
   "cell_type": "markdown",
   "metadata": {},
   "source": [
    "### - check for duplicated rows"
   ]
  },
  {
   "cell_type": "code",
   "execution_count": 9,
   "metadata": {},
   "outputs": [
    {
     "data": {
      "text/plain": [
       "1"
      ]
     },
     "execution_count": 9,
     "metadata": {},
     "output_type": "execute_result"
    }
   ],
   "source": [
    "#show number of dublicated rows\n",
    "df.duplicated().sum()"
   ]
  },
  {
   "cell_type": "markdown",
   "metadata": {},
   "source": [
    "### - drop duplicated row"
   ]
  },
  {
   "cell_type": "code",
   "execution_count": 10,
   "metadata": {},
   "outputs": [],
   "source": [
    "#drop dublicated rows\n",
    "df.drop_duplicates(inplace=True)"
   ]
  },
  {
   "cell_type": "markdown",
   "metadata": {},
   "source": [
    "## solve nan values"
   ]
  },
  {
   "cell_type": "markdown",
   "metadata": {},
   "source": [
    "### - Replace missed values for \"director\" to \"not-mentioned\" instead of nan"
   ]
  },
  {
   "cell_type": "code",
   "execution_count": 11,
   "metadata": {},
   "outputs": [],
   "source": [
    "#replace nan with 'not-mentioned'\n",
    "df.director.fillna('not-mentioned',inplace =True)"
   ]
  },
  {
   "cell_type": "markdown",
   "metadata": {},
   "source": [
    "### - check again for duplicated "
   ]
  },
  {
   "cell_type": "code",
   "execution_count": 12,
   "metadata": {},
   "outputs": [
    {
     "name": "stdout",
     "output_type": "stream",
     "text": [
      "<class 'pandas.core.frame.DataFrame'>\n",
      "Int64Index: 10865 entries, 0 to 10865\n",
      "Data columns (total 9 columns):\n",
      " #   Column          Non-Null Count  Dtype  \n",
      "---  ------          --------------  -----  \n",
      " 0   popularity      10865 non-null  float64\n",
      " 1   budget          10865 non-null  int64  \n",
      " 2   revenue         10865 non-null  int64  \n",
      " 3   original_title  10865 non-null  object \n",
      " 4   director        10865 non-null  object \n",
      " 5   runtime         10865 non-null  int64  \n",
      " 6   vote_count      10865 non-null  int64  \n",
      " 7   vote_average    10865 non-null  float64\n",
      " 8   release_year    10865 non-null  int64  \n",
      "dtypes: float64(2), int64(5), object(2)\n",
      "memory usage: 848.8+ KB\n"
     ]
    }
   ],
   "source": [
    "#check dataframe again\n",
    "check_data(df)"
   ]
  },
  {
   "cell_type": "markdown",
   "metadata": {},
   "source": [
    "## discover zero values for revenue an budget"
   ]
  },
  {
   "cell_type": "code",
   "execution_count": 13,
   "metadata": {},
   "outputs": [
    {
     "data": {
      "text/html": [
       "<div>\n",
       "<style scoped>\n",
       "    .dataframe tbody tr th:only-of-type {\n",
       "        vertical-align: middle;\n",
       "    }\n",
       "\n",
       "    .dataframe tbody tr th {\n",
       "        vertical-align: top;\n",
       "    }\n",
       "\n",
       "    .dataframe thead th {\n",
       "        text-align: right;\n",
       "    }\n",
       "</style>\n",
       "<table border=\"1\" class=\"dataframe\">\n",
       "  <thead>\n",
       "    <tr style=\"text-align: right;\">\n",
       "      <th></th>\n",
       "      <th>popularity</th>\n",
       "      <th>budget</th>\n",
       "      <th>revenue</th>\n",
       "      <th>original_title</th>\n",
       "      <th>director</th>\n",
       "      <th>runtime</th>\n",
       "      <th>vote_count</th>\n",
       "      <th>vote_average</th>\n",
       "      <th>release_year</th>\n",
       "    </tr>\n",
       "  </thead>\n",
       "  <tbody>\n",
       "    <tr>\n",
       "      <th>30</th>\n",
       "      <td>3.927333</td>\n",
       "      <td>0</td>\n",
       "      <td>29355203</td>\n",
       "      <td>Mr. Holmes</td>\n",
       "      <td>Bill Condon</td>\n",
       "      <td>103</td>\n",
       "      <td>425</td>\n",
       "      <td>6.4</td>\n",
       "      <td>2015</td>\n",
       "    </tr>\n",
       "    <tr>\n",
       "      <th>36</th>\n",
       "      <td>3.358321</td>\n",
       "      <td>0</td>\n",
       "      <td>22354572</td>\n",
       "      <td>Solace</td>\n",
       "      <td>Afonso Poyart</td>\n",
       "      <td>101</td>\n",
       "      <td>474</td>\n",
       "      <td>6.2</td>\n",
       "      <td>2015</td>\n",
       "    </tr>\n",
       "    <tr>\n",
       "      <th>48</th>\n",
       "      <td>2.932340</td>\n",
       "      <td>30000000</td>\n",
       "      <td>0</td>\n",
       "      <td>Wild Card</td>\n",
       "      <td>Simon West</td>\n",
       "      <td>92</td>\n",
       "      <td>481</td>\n",
       "      <td>5.3</td>\n",
       "      <td>2015</td>\n",
       "    </tr>\n",
       "    <tr>\n",
       "      <th>67</th>\n",
       "      <td>2.331636</td>\n",
       "      <td>20000000</td>\n",
       "      <td>0</td>\n",
       "      <td>Survivor</td>\n",
       "      <td>James McTeigue</td>\n",
       "      <td>96</td>\n",
       "      <td>280</td>\n",
       "      <td>5.4</td>\n",
       "      <td>2015</td>\n",
       "    </tr>\n",
       "    <tr>\n",
       "      <th>72</th>\n",
       "      <td>2.272044</td>\n",
       "      <td>0</td>\n",
       "      <td>45895</td>\n",
       "      <td>Beyond the Reach</td>\n",
       "      <td>Jean-Baptiste LÃ©onetti</td>\n",
       "      <td>95</td>\n",
       "      <td>81</td>\n",
       "      <td>5.5</td>\n",
       "      <td>2015</td>\n",
       "    </tr>\n",
       "    <tr>\n",
       "      <th>...</th>\n",
       "      <td>...</td>\n",
       "      <td>...</td>\n",
       "      <td>...</td>\n",
       "      <td>...</td>\n",
       "      <td>...</td>\n",
       "      <td>...</td>\n",
       "      <td>...</td>\n",
       "      <td>...</td>\n",
       "      <td>...</td>\n",
       "    </tr>\n",
       "    <tr>\n",
       "      <th>10861</th>\n",
       "      <td>0.080598</td>\n",
       "      <td>0</td>\n",
       "      <td>0</td>\n",
       "      <td>The Endless Summer</td>\n",
       "      <td>Bruce Brown</td>\n",
       "      <td>95</td>\n",
       "      <td>11</td>\n",
       "      <td>7.4</td>\n",
       "      <td>1966</td>\n",
       "    </tr>\n",
       "    <tr>\n",
       "      <th>10862</th>\n",
       "      <td>0.065543</td>\n",
       "      <td>0</td>\n",
       "      <td>0</td>\n",
       "      <td>Grand Prix</td>\n",
       "      <td>John Frankenheimer</td>\n",
       "      <td>176</td>\n",
       "      <td>20</td>\n",
       "      <td>5.7</td>\n",
       "      <td>1966</td>\n",
       "    </tr>\n",
       "    <tr>\n",
       "      <th>10863</th>\n",
       "      <td>0.065141</td>\n",
       "      <td>0</td>\n",
       "      <td>0</td>\n",
       "      <td>Beregis Avtomobilya</td>\n",
       "      <td>Eldar Ryazanov</td>\n",
       "      <td>94</td>\n",
       "      <td>11</td>\n",
       "      <td>6.5</td>\n",
       "      <td>1966</td>\n",
       "    </tr>\n",
       "    <tr>\n",
       "      <th>10864</th>\n",
       "      <td>0.064317</td>\n",
       "      <td>0</td>\n",
       "      <td>0</td>\n",
       "      <td>What's Up, Tiger Lily?</td>\n",
       "      <td>Woody Allen</td>\n",
       "      <td>80</td>\n",
       "      <td>22</td>\n",
       "      <td>5.4</td>\n",
       "      <td>1966</td>\n",
       "    </tr>\n",
       "    <tr>\n",
       "      <th>10865</th>\n",
       "      <td>0.035919</td>\n",
       "      <td>19000</td>\n",
       "      <td>0</td>\n",
       "      <td>Manos: The Hands of Fate</td>\n",
       "      <td>Harold P. Warren</td>\n",
       "      <td>74</td>\n",
       "      <td>15</td>\n",
       "      <td>1.5</td>\n",
       "      <td>1966</td>\n",
       "    </tr>\n",
       "  </tbody>\n",
       "</table>\n",
       "<p>7011 rows × 9 columns</p>\n",
       "</div>"
      ],
      "text/plain": [
       "       popularity    budget   revenue            original_title  \\\n",
       "30       3.927333         0  29355203                Mr. Holmes   \n",
       "36       3.358321         0  22354572                    Solace   \n",
       "48       2.932340  30000000         0                 Wild Card   \n",
       "67       2.331636  20000000         0                  Survivor   \n",
       "72       2.272044         0     45895          Beyond the Reach   \n",
       "...           ...       ...       ...                       ...   \n",
       "10861    0.080598         0         0        The Endless Summer   \n",
       "10862    0.065543         0         0                Grand Prix   \n",
       "10863    0.065141         0         0       Beregis Avtomobilya   \n",
       "10864    0.064317         0         0    What's Up, Tiger Lily?   \n",
       "10865    0.035919     19000         0  Manos: The Hands of Fate   \n",
       "\n",
       "                      director  runtime  vote_count  vote_average  \\\n",
       "30                 Bill Condon      103         425           6.4   \n",
       "36               Afonso Poyart      101         474           6.2   \n",
       "48                  Simon West       92         481           5.3   \n",
       "67              James McTeigue       96         280           5.4   \n",
       "72     Jean-Baptiste LÃ©onetti       95          81           5.5   \n",
       "...                        ...      ...         ...           ...   \n",
       "10861              Bruce Brown       95          11           7.4   \n",
       "10862       John Frankenheimer      176          20           5.7   \n",
       "10863           Eldar Ryazanov       94          11           6.5   \n",
       "10864              Woody Allen       80          22           5.4   \n",
       "10865         Harold P. Warren       74          15           1.5   \n",
       "\n",
       "       release_year  \n",
       "30             2015  \n",
       "36             2015  \n",
       "48             2015  \n",
       "67             2015  \n",
       "72             2015  \n",
       "...             ...  \n",
       "10861          1966  \n",
       "10862          1966  \n",
       "10863          1966  \n",
       "10864          1966  \n",
       "10865          1966  \n",
       "\n",
       "[7011 rows x 9 columns]"
      ]
     },
     "execution_count": 13,
     "metadata": {},
     "output_type": "execute_result"
    }
   ],
   "source": [
    "#show columns that have zero values\n",
    "df.query('budget == 0 or revenue == 0')"
   ]
  },
  {
   "cell_type": "markdown",
   "metadata": {},
   "source": [
    "conclusion : we cann't replace zeros with mean becuse there is huge number of affected rows"
   ]
  },
  {
   "cell_type": "markdown",
   "metadata": {},
   "source": [
    "so we can skip zeros but into considerations"
   ]
  },
  {
   "cell_type": "markdown",
   "metadata": {},
   "source": [
    "<a id='eda'></a>\n",
    "## Exploratory Data Analysis\n",
    "\n",
    "### Research Question 1 (what is the top 100 rating movies during this period?)"
   ]
  },
  {
   "cell_type": "code",
   "execution_count": 14,
   "metadata": {},
   "outputs": [],
   "source": [
    "#making rating score that shows movie effectiveness\n",
    "df['rating_score']=df['vote_average']*df['vote_count']"
   ]
  },
  {
   "cell_type": "code",
   "execution_count": 15,
   "metadata": {
    "scrolled": true
   },
   "outputs": [
    {
     "data": {
      "text/html": [
       "<div>\n",
       "<style scoped>\n",
       "    .dataframe tbody tr th:only-of-type {\n",
       "        vertical-align: middle;\n",
       "    }\n",
       "\n",
       "    .dataframe tbody tr th {\n",
       "        vertical-align: top;\n",
       "    }\n",
       "\n",
       "    .dataframe thead th {\n",
       "        text-align: right;\n",
       "    }\n",
       "</style>\n",
       "<table border=\"1\" class=\"dataframe\">\n",
       "  <thead>\n",
       "    <tr style=\"text-align: right;\">\n",
       "      <th></th>\n",
       "      <th>popularity</th>\n",
       "      <th>budget</th>\n",
       "      <th>revenue</th>\n",
       "      <th>original_title</th>\n",
       "      <th>director</th>\n",
       "      <th>runtime</th>\n",
       "      <th>vote_count</th>\n",
       "      <th>vote_average</th>\n",
       "      <th>release_year</th>\n",
       "      <th>rating_score</th>\n",
       "    </tr>\n",
       "  </thead>\n",
       "  <tbody>\n",
       "    <tr>\n",
       "      <th>8974</th>\n",
       "      <td>2.170136</td>\n",
       "      <td>70000000</td>\n",
       "      <td>481840909</td>\n",
       "      <td>Saving Private Ryan</td>\n",
       "      <td>Steven Spielberg</td>\n",
       "      <td>169</td>\n",
       "      <td>3396</td>\n",
       "      <td>7.7</td>\n",
       "      <td>1998</td>\n",
       "      <td>26149.2</td>\n",
       "    </tr>\n",
       "    <tr>\n",
       "      <th>5425</th>\n",
       "      <td>4.946136</td>\n",
       "      <td>200000000</td>\n",
       "      <td>1215439994</td>\n",
       "      <td>Iron Man 3</td>\n",
       "      <td>Shane Black</td>\n",
       "      <td>130</td>\n",
       "      <td>6882</td>\n",
       "      <td>6.9</td>\n",
       "      <td>2013</td>\n",
       "      <td>47485.8</td>\n",
       "    </tr>\n",
       "    <tr>\n",
       "      <th>2875</th>\n",
       "      <td>8.466668</td>\n",
       "      <td>185000000</td>\n",
       "      <td>1001921825</td>\n",
       "      <td>The Dark Knight</td>\n",
       "      <td>Christopher Nolan</td>\n",
       "      <td>152</td>\n",
       "      <td>8432</td>\n",
       "      <td>8.1</td>\n",
       "      <td>2008</td>\n",
       "      <td>68299.2</td>\n",
       "    </tr>\n",
       "    <tr>\n",
       "      <th>5426</th>\n",
       "      <td>4.942928</td>\n",
       "      <td>75000000</td>\n",
       "      <td>117698894</td>\n",
       "      <td>Now You See Me</td>\n",
       "      <td>Louis Leterrier</td>\n",
       "      <td>115</td>\n",
       "      <td>3453</td>\n",
       "      <td>7.3</td>\n",
       "      <td>2013</td>\n",
       "      <td>25206.9</td>\n",
       "    </tr>\n",
       "    <tr>\n",
       "      <th>10223</th>\n",
       "      <td>2.204926</td>\n",
       "      <td>63000000</td>\n",
       "      <td>920100000</td>\n",
       "      <td>Jurassic Park</td>\n",
       "      <td>Steven Spielberg</td>\n",
       "      <td>127</td>\n",
       "      <td>3169</td>\n",
       "      <td>7.4</td>\n",
       "      <td>1993</td>\n",
       "      <td>23450.6</td>\n",
       "    </tr>\n",
       "  </tbody>\n",
       "</table>\n",
       "</div>"
      ],
      "text/plain": [
       "       popularity     budget     revenue       original_title  \\\n",
       "8974     2.170136   70000000   481840909  Saving Private Ryan   \n",
       "5425     4.946136  200000000  1215439994           Iron Man 3   \n",
       "2875     8.466668  185000000  1001921825      The Dark Knight   \n",
       "5426     4.942928   75000000   117698894       Now You See Me   \n",
       "10223    2.204926   63000000   920100000        Jurassic Park   \n",
       "\n",
       "                director  runtime  vote_count  vote_average  release_year  \\\n",
       "8974    Steven Spielberg      169        3396           7.7          1998   \n",
       "5425         Shane Black      130        6882           6.9          2013   \n",
       "2875   Christopher Nolan      152        8432           8.1          2008   \n",
       "5426     Louis Leterrier      115        3453           7.3          2013   \n",
       "10223   Steven Spielberg      127        3169           7.4          1993   \n",
       "\n",
       "       rating_score  \n",
       "8974        26149.2  \n",
       "5425        47485.8  \n",
       "2875        68299.2  \n",
       "5426        25206.9  \n",
       "10223       23450.6  "
      ]
     },
     "execution_count": 15,
     "metadata": {},
     "output_type": "execute_result"
    }
   ],
   "source": [
    "#sort dataframe descending by rating count\n",
    "best_100 = df.sort_values('rating_score', ascending=False).head(100)\n",
    "best_100.sample(5)"
   ]
  },
  {
   "cell_type": "code",
   "execution_count": 16,
   "metadata": {},
   "outputs": [
    {
     "name": "stdout",
     "output_type": "stream",
     "text": [
      "(10865, 10)\n",
      "<class 'pandas.core.frame.DataFrame'>\n",
      "Int64Index: 10865 entries, 0 to 10865\n",
      "Data columns (total 10 columns):\n",
      " #   Column          Non-Null Count  Dtype  \n",
      "---  ------          --------------  -----  \n",
      " 0   popularity      10865 non-null  float64\n",
      " 1   budget          10865 non-null  int64  \n",
      " 2   revenue         10865 non-null  int64  \n",
      " 3   original_title  10865 non-null  object \n",
      " 4   director        10865 non-null  object \n",
      " 5   runtime         10865 non-null  int64  \n",
      " 6   vote_count      10865 non-null  int64  \n",
      " 7   vote_average    10865 non-null  float64\n",
      " 8   release_year    10865 non-null  int64  \n",
      " 9   rating_score    10865 non-null  float64\n",
      "dtypes: float64(3), int64(5), object(2)\n",
      "memory usage: 933.7+ KB\n",
      "None\n"
     ]
    }
   ],
   "source": [
    "#recheck data\n",
    "check_data(df)"
   ]
  },
  {
   "cell_type": "markdown",
   "metadata": {},
   "source": [
    "### Research Question 2 (what is the top 10 high-profit movies ?)"
   ]
  },
  {
   "cell_type": "code",
   "execution_count": 17,
   "metadata": {},
   "outputs": [
    {
     "data": {
      "text/html": [
       "<div>\n",
       "<style scoped>\n",
       "    .dataframe tbody tr th:only-of-type {\n",
       "        vertical-align: middle;\n",
       "    }\n",
       "\n",
       "    .dataframe tbody tr th {\n",
       "        vertical-align: top;\n",
       "    }\n",
       "\n",
       "    .dataframe thead th {\n",
       "        text-align: right;\n",
       "    }\n",
       "</style>\n",
       "<table border=\"1\" class=\"dataframe\">\n",
       "  <thead>\n",
       "    <tr style=\"text-align: right;\">\n",
       "      <th></th>\n",
       "      <th>popularity</th>\n",
       "      <th>budget</th>\n",
       "      <th>revenue</th>\n",
       "      <th>original_title</th>\n",
       "      <th>director</th>\n",
       "      <th>runtime</th>\n",
       "      <th>vote_count</th>\n",
       "      <th>vote_average</th>\n",
       "      <th>release_year</th>\n",
       "      <th>rating_score</th>\n",
       "      <th>profit</th>\n",
       "    </tr>\n",
       "  </thead>\n",
       "  <tbody>\n",
       "    <tr>\n",
       "      <th>1919</th>\n",
       "      <td>9.363643</td>\n",
       "      <td>160000000</td>\n",
       "      <td>825500000</td>\n",
       "      <td>Inception</td>\n",
       "      <td>Christopher Nolan</td>\n",
       "      <td>148</td>\n",
       "      <td>9767</td>\n",
       "      <td>7.9</td>\n",
       "      <td>2010</td>\n",
       "      <td>77159.3</td>\n",
       "      <td>665500000</td>\n",
       "    </tr>\n",
       "    <tr>\n",
       "      <th>2875</th>\n",
       "      <td>8.466668</td>\n",
       "      <td>185000000</td>\n",
       "      <td>1001921825</td>\n",
       "      <td>The Dark Knight</td>\n",
       "      <td>Christopher Nolan</td>\n",
       "      <td>152</td>\n",
       "      <td>8432</td>\n",
       "      <td>8.1</td>\n",
       "      <td>2008</td>\n",
       "      <td>68299.2</td>\n",
       "      <td>816921825</td>\n",
       "    </tr>\n",
       "    <tr>\n",
       "      <th>4361</th>\n",
       "      <td>7.637767</td>\n",
       "      <td>220000000</td>\n",
       "      <td>1519557910</td>\n",
       "      <td>The Avengers</td>\n",
       "      <td>Joss Whedon</td>\n",
       "      <td>143</td>\n",
       "      <td>8903</td>\n",
       "      <td>7.3</td>\n",
       "      <td>2012</td>\n",
       "      <td>64991.9</td>\n",
       "      <td>1299557910</td>\n",
       "    </tr>\n",
       "    <tr>\n",
       "      <th>1386</th>\n",
       "      <td>9.432768</td>\n",
       "      <td>237000000</td>\n",
       "      <td>2781505847</td>\n",
       "      <td>Avatar</td>\n",
       "      <td>James Cameron</td>\n",
       "      <td>162</td>\n",
       "      <td>8458</td>\n",
       "      <td>7.1</td>\n",
       "      <td>2009</td>\n",
       "      <td>60051.8</td>\n",
       "      <td>2544505847</td>\n",
       "    </tr>\n",
       "    <tr>\n",
       "      <th>4364</th>\n",
       "      <td>5.944518</td>\n",
       "      <td>100000000</td>\n",
       "      <td>425368238</td>\n",
       "      <td>Django Unchained</td>\n",
       "      <td>Quentin Tarantino</td>\n",
       "      <td>165</td>\n",
       "      <td>7375</td>\n",
       "      <td>7.7</td>\n",
       "      <td>2012</td>\n",
       "      <td>56787.5</td>\n",
       "      <td>325368238</td>\n",
       "    </tr>\n",
       "  </tbody>\n",
       "</table>\n",
       "</div>"
      ],
      "text/plain": [
       "      popularity     budget     revenue    original_title           director  \\\n",
       "1919    9.363643  160000000   825500000         Inception  Christopher Nolan   \n",
       "2875    8.466668  185000000  1001921825   The Dark Knight  Christopher Nolan   \n",
       "4361    7.637767  220000000  1519557910      The Avengers        Joss Whedon   \n",
       "1386    9.432768  237000000  2781505847            Avatar      James Cameron   \n",
       "4364    5.944518  100000000   425368238  Django Unchained  Quentin Tarantino   \n",
       "\n",
       "      runtime  vote_count  vote_average  release_year  rating_score  \\\n",
       "1919      148        9767           7.9          2010       77159.3   \n",
       "2875      152        8432           8.1          2008       68299.2   \n",
       "4361      143        8903           7.3          2012       64991.9   \n",
       "1386      162        8458           7.1          2009       60051.8   \n",
       "4364      165        7375           7.7          2012       56787.5   \n",
       "\n",
       "          profit  \n",
       "1919   665500000  \n",
       "2875   816921825  \n",
       "4361  1299557910  \n",
       "1386  2544505847  \n",
       "4364   325368238  "
      ]
     },
     "execution_count": 17,
     "metadata": {},
     "output_type": "execute_result"
    }
   ],
   "source": [
    "# calculate profit for each row\n",
    "best_100['profit']=best_100['revenue']-best_100['budget']\n",
    "best_100.head()"
   ]
  },
  {
   "cell_type": "code",
   "execution_count": 18,
   "metadata": {},
   "outputs": [
    {
     "data": {
      "text/html": [
       "<div>\n",
       "<style scoped>\n",
       "    .dataframe tbody tr th:only-of-type {\n",
       "        vertical-align: middle;\n",
       "    }\n",
       "\n",
       "    .dataframe tbody tr th {\n",
       "        vertical-align: top;\n",
       "    }\n",
       "\n",
       "    .dataframe thead th {\n",
       "        text-align: right;\n",
       "    }\n",
       "</style>\n",
       "<table border=\"1\" class=\"dataframe\">\n",
       "  <thead>\n",
       "    <tr style=\"text-align: right;\">\n",
       "      <th></th>\n",
       "      <th>popularity</th>\n",
       "      <th>budget</th>\n",
       "      <th>revenue</th>\n",
       "      <th>original_title</th>\n",
       "      <th>director</th>\n",
       "      <th>runtime</th>\n",
       "      <th>vote_count</th>\n",
       "      <th>vote_average</th>\n",
       "      <th>release_year</th>\n",
       "      <th>rating_score</th>\n",
       "      <th>profit</th>\n",
       "    </tr>\n",
       "  </thead>\n",
       "  <tbody>\n",
       "    <tr>\n",
       "      <th>1386</th>\n",
       "      <td>9.432768</td>\n",
       "      <td>237000000</td>\n",
       "      <td>2781505847</td>\n",
       "      <td>Avatar</td>\n",
       "      <td>James Cameron</td>\n",
       "      <td>162</td>\n",
       "      <td>8458</td>\n",
       "      <td>7.1</td>\n",
       "      <td>2009</td>\n",
       "      <td>60051.8</td>\n",
       "      <td>2544505847</td>\n",
       "    </tr>\n",
       "    <tr>\n",
       "      <th>3</th>\n",
       "      <td>11.173104</td>\n",
       "      <td>200000000</td>\n",
       "      <td>2068178225</td>\n",
       "      <td>Star Wars: The Force Awakens</td>\n",
       "      <td>J.J. Abrams</td>\n",
       "      <td>136</td>\n",
       "      <td>5292</td>\n",
       "      <td>7.5</td>\n",
       "      <td>2015</td>\n",
       "      <td>39690.0</td>\n",
       "      <td>1868178225</td>\n",
       "    </tr>\n",
       "    <tr>\n",
       "      <th>5231</th>\n",
       "      <td>4.355219</td>\n",
       "      <td>200000000</td>\n",
       "      <td>1845034188</td>\n",
       "      <td>Titanic</td>\n",
       "      <td>James Cameron</td>\n",
       "      <td>194</td>\n",
       "      <td>4654</td>\n",
       "      <td>7.3</td>\n",
       "      <td>1997</td>\n",
       "      <td>33974.2</td>\n",
       "      <td>1645034188</td>\n",
       "    </tr>\n",
       "    <tr>\n",
       "      <th>0</th>\n",
       "      <td>32.985763</td>\n",
       "      <td>150000000</td>\n",
       "      <td>1513528810</td>\n",
       "      <td>Jurassic World</td>\n",
       "      <td>Colin Trevorrow</td>\n",
       "      <td>124</td>\n",
       "      <td>5562</td>\n",
       "      <td>6.5</td>\n",
       "      <td>2015</td>\n",
       "      <td>36153.0</td>\n",
       "      <td>1363528810</td>\n",
       "    </tr>\n",
       "    <tr>\n",
       "      <th>4361</th>\n",
       "      <td>7.637767</td>\n",
       "      <td>220000000</td>\n",
       "      <td>1519557910</td>\n",
       "      <td>The Avengers</td>\n",
       "      <td>Joss Whedon</td>\n",
       "      <td>143</td>\n",
       "      <td>8903</td>\n",
       "      <td>7.3</td>\n",
       "      <td>2012</td>\n",
       "      <td>64991.9</td>\n",
       "      <td>1299557910</td>\n",
       "    </tr>\n",
       "  </tbody>\n",
       "</table>\n",
       "</div>"
      ],
      "text/plain": [
       "      popularity     budget     revenue                original_title  \\\n",
       "1386    9.432768  237000000  2781505847                        Avatar   \n",
       "3      11.173104  200000000  2068178225  Star Wars: The Force Awakens   \n",
       "5231    4.355219  200000000  1845034188                       Titanic   \n",
       "0      32.985763  150000000  1513528810                Jurassic World   \n",
       "4361    7.637767  220000000  1519557910                  The Avengers   \n",
       "\n",
       "             director  runtime  vote_count  vote_average  release_year  \\\n",
       "1386    James Cameron      162        8458           7.1          2009   \n",
       "3         J.J. Abrams      136        5292           7.5          2015   \n",
       "5231    James Cameron      194        4654           7.3          1997   \n",
       "0     Colin Trevorrow      124        5562           6.5          2015   \n",
       "4361      Joss Whedon      143        8903           7.3          2012   \n",
       "\n",
       "      rating_score      profit  \n",
       "1386       60051.8  2544505847  \n",
       "3          39690.0  1868178225  \n",
       "5231       33974.2  1645034188  \n",
       "0          36153.0  1363528810  \n",
       "4361       64991.9  1299557910  "
      ]
     },
     "execution_count": 18,
     "metadata": {},
     "output_type": "execute_result"
    }
   ],
   "source": [
    "#sort data by profit descending\n",
    "best_profit = best_100.sort_values('profit',ascending=False).head(10)\n",
    "best_profit.head()"
   ]
  },
  {
   "cell_type": "code",
   "execution_count": 19,
   "metadata": {},
   "outputs": [
    {
     "name": "stdout",
     "output_type": "stream",
     "text": [
      "(10, 11)\n",
      "<class 'pandas.core.frame.DataFrame'>\n",
      "Int64Index: 10 entries, 1386 to 5425\n",
      "Data columns (total 11 columns):\n",
      " #   Column          Non-Null Count  Dtype  \n",
      "---  ------          --------------  -----  \n",
      " 0   popularity      10 non-null     float64\n",
      " 1   budget          10 non-null     int64  \n",
      " 2   revenue         10 non-null     int64  \n",
      " 3   original_title  10 non-null     object \n",
      " 4   director        10 non-null     object \n",
      " 5   runtime         10 non-null     int64  \n",
      " 6   vote_count      10 non-null     int64  \n",
      " 7   vote_average    10 non-null     float64\n",
      " 8   release_year    10 non-null     int64  \n",
      " 9   rating_score    10 non-null     float64\n",
      " 10  profit          10 non-null     int64  \n",
      "dtypes: float64(3), int64(6), object(2)\n",
      "memory usage: 960.0+ bytes\n",
      "None\n"
     ]
    }
   ],
   "source": [
    "#recheck data\n",
    "check_data(best_profit)"
   ]
  },
  {
   "cell_type": "code",
   "execution_count": 20,
   "metadata": {},
   "outputs": [
    {
     "data": {
      "text/plain": [
       "Text(0.5, 1.0, 'Top 10 high-profit movies')"
      ]
     },
     "execution_count": 20,
     "metadata": {},
     "output_type": "execute_result"
    },
    {
     "data": {
      "image/png": "[encoded data removed]",
      "text/plain": [
       "<Figure size 432x288 with 1 Axes>"
      ]
     },
     "metadata": {
      "needs_background": "light"
     },
     "output_type": "display_data"
    }
   ],
   "source": [
    "#show bar chart of the result \n",
    "plt.bar(best_profit.original_title,best_profit.profit)\n",
    "plt.xticks(rotation=90)\n",
    "plt.ylabel(\"Profit\")\n",
    "plt.title('Top 10 high-profit movies')"
   ]
  },
  {
   "cell_type": "markdown",
   "metadata": {},
   "source": [
    "conclusion : \"Avatar\" has achieved the highest revenue during this period"
   ]
  },
  {
   "cell_type": "markdown",
   "metadata": {},
   "source": [
    "### Research Question 3 (what are the top 5 directors who made a lot of those best movies ? )"
   ]
  },
  {
   "cell_type": "code",
   "execution_count": 21,
   "metadata": {},
   "outputs": [
    {
     "data": {
      "text/plain": [
       "Peter Jackson        6\n",
       "Christopher Nolan    5\n",
       "Quentin Tarantino    4\n",
       "David Yates          4\n",
       "Ridley Scott         3\n",
       "Name: director, dtype: int64"
      ]
     },
     "execution_count": 21,
     "metadata": {},
     "output_type": "execute_result"
    }
   ],
   "source": [
    "#get top 5 directors\n",
    "best_100['director'].value_counts().head(5)"
   ]
  },
  {
   "cell_type": "markdown",
   "metadata": {},
   "source": [
    "conclusion : \"Peter Jackson\" made 6 movies of top 100 movies so he is a good director"
   ]
  },
  {
   "cell_type": "markdown",
   "metadata": {},
   "source": [
    "### Research Question 4 (what is the distribution of \"Vote average\" ?)"
   ]
  },
  {
   "cell_type": "code",
   "execution_count": 22,
   "metadata": {},
   "outputs": [
    {
     "data": {
      "text/plain": [
       "count    10865.000000\n",
       "mean         5.975012\n",
       "std          0.935138\n",
       "min          1.500000\n",
       "25%          5.400000\n",
       "50%          6.000000\n",
       "75%          6.600000\n",
       "max          9.200000\n",
       "Name: vote_average, dtype: float64"
      ]
     },
     "execution_count": 22,
     "metadata": {},
     "output_type": "execute_result"
    }
   ],
   "source": [
    "#discribe data\n",
    "df[\"vote_average\"].describe()"
   ]
  },
  {
   "cell_type": "code",
   "execution_count": 23,
   "metadata": {},
   "outputs": [
    {
     "data": {
      "text/plain": [
       "Text(0, 0.5, 'Vote average')"
      ]
     },
     "execution_count": 23,
     "metadata": {},
     "output_type": "execute_result"
    },
    {
     "data": {
      "image/png": "[encoded data removed]",
      "text/plain": [
       "<Figure size 432x288 with 1 Axes>"
      ]
     },
     "metadata": {
      "needs_background": "light"
     },
     "output_type": "display_data"
    }
   ],
   "source": [
    "#show box char for vote average\n",
    "plt.boxplot(df.vote_average)\n",
    "plt.title('box char for vote average')\n",
    "plt.ylabel(\"Vote average\")"
   ]
  },
  {
   "cell_type": "code",
   "execution_count": 24,
   "metadata": {},
   "outputs": [
    {
     "data": {
      "text/plain": [
       "Text(0.5, 0, 'Vote average')"
      ]
     },
     "execution_count": 24,
     "metadata": {},
     "output_type": "execute_result"
    },
    {
     "data": {
      "image/png": "[encoded data removed]",
      "text/plain": [
       "<Figure size 432x288 with 1 Axes>"
      ]
     },
     "metadata": {
      "needs_background": "light"
     },
     "output_type": "display_data"
    }
   ],
   "source": [
    "#show histogram char for vote average\n",
    "plt.hist(df.vote_average,bins=20)\n",
    "plt.title('histogram for vote average')\n",
    "plt.ylabel('Count')\n",
    "plt.xlabel('Vote average')"
   ]
  },
  {
   "cell_type": "markdown",
   "metadata": {},
   "source": [
    "conclusion : vote avreage follows normal distribution"
   ]
  },
  {
   "cell_type": "markdown",
   "metadata": {},
   "source": [
    "### Research Question 5 (what is the relationship between \"vote-avg\" and \"popularity\" ?)"
   ]
  },
  {
   "cell_type": "code",
   "execution_count": 25,
   "metadata": {},
   "outputs": [
    {
     "data": {
      "text/plain": [
       "Text(0.5, 1.0, 'relationship between \"vote-avg\" and popularity')"
      ]
     },
     "execution_count": 25,
     "metadata": {},
     "output_type": "execute_result"
    },
    {
     "data": {
      "image/png": "[encoded data removed]",
      "text/plain": [
       "<Figure size 432x288 with 1 Axes>"
      ]
     },
     "metadata": {
      "needs_background": "light"
     },
     "output_type": "display_data"
    }
   ],
   "source": [
    "#show scatter char to fing relationship between \"vote-avg\" and \"popularity\"\n",
    "plt.scatter(df['vote_average'],df['popularity'])\n",
    "plt.xlabel('Vote average')\n",
    "plt.ylabel('Popularity')\n",
    "plt.title('relationship between \"vote-avg\" and popularity')"
   ]
  },
  {
   "cell_type": "markdown",
   "metadata": {},
   "source": [
    "conclusion : there is positive relationship , but there are 3 movies are popular more than usual"
   ]
  },
  {
   "cell_type": "code",
   "execution_count": 26,
   "metadata": {},
   "outputs": [
    {
     "data": {
      "text/html": [
       "<div>\n",
       "<style scoped>\n",
       "    .dataframe tbody tr th:only-of-type {\n",
       "        vertical-align: middle;\n",
       "    }\n",
       "\n",
       "    .dataframe tbody tr th {\n",
       "        vertical-align: top;\n",
       "    }\n",
       "\n",
       "    .dataframe thead th {\n",
       "        text-align: right;\n",
       "    }\n",
       "</style>\n",
       "<table border=\"1\" class=\"dataframe\">\n",
       "  <thead>\n",
       "    <tr style=\"text-align: right;\">\n",
       "      <th></th>\n",
       "      <th>original_title</th>\n",
       "      <th>popularity</th>\n",
       "    </tr>\n",
       "  </thead>\n",
       "  <tbody>\n",
       "    <tr>\n",
       "      <th>0</th>\n",
       "      <td>Jurassic World</td>\n",
       "      <td>32.985763</td>\n",
       "    </tr>\n",
       "    <tr>\n",
       "      <th>1</th>\n",
       "      <td>Mad Max: Fury Road</td>\n",
       "      <td>28.419936</td>\n",
       "    </tr>\n",
       "    <tr>\n",
       "      <th>629</th>\n",
       "      <td>Interstellar</td>\n",
       "      <td>24.949134</td>\n",
       "    </tr>\n",
       "  </tbody>\n",
       "</table>\n",
       "</div>"
      ],
      "text/plain": [
       "         original_title  popularity\n",
       "0        Jurassic World   32.985763\n",
       "1    Mad Max: Fury Road   28.419936\n",
       "629        Interstellar   24.949134"
      ]
     },
     "execution_count": 26,
     "metadata": {},
     "output_type": "execute_result"
    }
   ],
   "source": [
    "#sort Values by 'popularity'\n",
    "df.sort_values('popularity', ascending=False)[['original_title','popularity']].head(3)"
   ]
  },
  {
   "cell_type": "markdown",
   "metadata": {},
   "source": [
    "conclusion : there are 3 movies that have popularity more than usual \n",
    "- Jurassic World\n",
    "- Mad Max: Fury Road\n",
    "- Interstellar"
   ]
  },
  {
   "cell_type": "markdown",
   "metadata": {},
   "source": [
    "<a id='conclusions'></a>\n",
    "## Conclusions\n",
    "\n",
    "\n",
    "### Question 1 (what is the top 100 rating movies during this period?)\n",
    "- movie success not only depending on vote average or vote count, is a score of multiplying both.\n",
    "- not all popular movies have a high vote average.\n",
    "- I discovered the top 100 movies during this period.\n",
    "\n",
    "### Question 2 (what is the top 10 high-profit movies ?)\n",
    "- I discovered the top 10 high-profit movies.\n",
    "- \"Avatar\" has achieved the highest revenue during this period\n",
    "\n",
    "### Question 3 (what are the top 5 directors who made a lot of those best movies ? )\n",
    "- Peter Jackson        6 movies\n",
    "- Christopher Nolan    5 movies\n",
    "- Quentin Tarantino    4 movies\n",
    "- David Yates          4 movies\n",
    "- J.J. Abrams          3 movies\n",
    "- conclusion : \"Peter Jackson\" made 6 movies of top 100 movies so he is a good director.\n",
    "\n",
    "### Question 4 (what is the distribution of \"Vote average\" ?)\n",
    "- vote average follows the normal distribution.\n",
    "- most of the movies have a vote average between 5.5 to 6.5.\n",
    "\n",
    "### Question 5 (what is the relationship between \"vote-avg\" and \"popularity\" ?)\n",
    "- there is a positive relationship. \n",
    "- there are 3 movies that are popular more than usual (Jurassic World,Mad Max: Fury Road,Interstellar)\n",
    "\n",
    "\n",
    "\n"
   ]
  },
  {
   "cell_type": "markdown",
   "metadata": {},
   "source": [
    "## Limitaions\n",
    "- 75% of rows have the budget or revenue zero values this will prevent us to calculate the actual revenue for each movie.\n",
    "- dataset doesn't contain new movies that relaised after 2016\n",
    "- it will be better if the dataset contains other features like (actors rating, country , awards received)"
   ]
  }
 ],
 "metadata": {
  "kernelspec": {
   "display_name": "Python 3 (ipykernel)",
   "language": "python",
   "name": "python3"
  },
  "language_info": {
   "codemirror_mode": {
    "name": "ipython",
    "version": 3
   },
   "file_extension": ".py",
   "mimetype": "text/x-python",
   "name": "python",
   "nbconvert_exporter": "python",
   "pygments_lexer": "ipython3",
   "version": "3.9.1"
  }
 },
 "nbformat": 4,
 "nbformat_minor": 2
}
